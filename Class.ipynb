{
 "cells": [
  {
   "cell_type": "code",
   "execution_count": 2,
   "metadata": {},
   "outputs": [],
   "source": [
    "from media import momentos"
   ]
  },
  {
   "cell_type": "code",
   "execution_count": 9,
   "metadata": {},
   "outputs": [
    {
     "name": "stdout",
     "output_type": "stream",
     "text": [
      "\n",
      "Mis pulsaciones: 38.93333333333333\n",
      "Mi variacion: 3.2095238095238097\n",
      "Mi desviacion: 1.791514389985135\n",
      "Mi Skew: 0.16221837396002795\n",
      "Mi Kurtosis: -1.372123143933056\n",
      "\n",
      "Pulsaciones Gonzalo: 38.2\n",
      "variacion Gonzalo: 3.7428571428571416\n",
      "desviacion Gonzalo: 1.9346465162548794\n",
      "Skew Gonzalo: -1.2572665816608009\n",
      "Kurtosis Gonzalo: 0.9101015869316202\n",
      "\n",
      "Pulsaciones Luis: 34.06666666666667\n",
      "variacion Luis: 7.066666666666667\n",
      "desviacion Luis: 2.6583202716502514\n",
      "Skew Luis: -0.04539364982680696\n",
      "Kurtosis Luis: -0.5759534828527344\n",
      "\n",
      "Pulsaciones Osmar: 39.333333333333336\n",
      "variacion Osmar: 4.666666666666667\n",
      "desviacion Osmar: 2.160246899469287\n",
      "Skew Osmar: 0.11315578997219757\n",
      "Kurtosis Osmar: -0.978231292517008\n"
     ]
    }
   ],
   "source": [
    "datos0 = [37,40,38,39,41,36,37,38,41,38,38,42,40,41,38]\n",
    "datosG = [33,38,40,38,39,38,36,39,39,40,36,40,38,40,39]\n",
    "datosL = [38,33,33,34,30,29,35,39,36,34,35,34,36,33,32]\n",
    "datosO = [38,40,37,43,39,41,40,38,36,41,43,40,36,39,39]\n",
    "\n",
    "s=momentos(datos0)\n",
    "g=momentos(datosG)\n",
    "l=momentos(datosL)\n",
    "o=momentos(datosO)\n",
    "\n",
    "print(\"\\nMis pulsaciones:\", s.med())\n",
    "print(\"Mi variacion:\", s.var())\n",
    "print(\"Mi desviacion:\", s.des())\n",
    "print(\"Mi Skew:\", s.ske())\n",
    "print(\"Mi Kurtosis:\", s.kur())\n",
    "\n",
    "print(\"\\nPulsaciones Gonzalo:\", g.med())\n",
    "print(\"variacion Gonzalo:\", g.var())\n",
    "print(\"desviacion Gonzalo:\", g.des())\n",
    "print(\"Skew Gonzalo:\", g.ske())\n",
    "print(\"Kurtosis Gonzalo:\", g.kur())\n",
    "\n",
    "print(\"\\nPulsaciones Luis:\", l.med())\n",
    "print(\"variacion Luis:\", l.var())\n",
    "print(\"desviacion Luis:\", l.des())\n",
    "print(\"Skew Luis:\", l.ske())\n",
    "print(\"Kurtosis Luis:\", l.kur())\n",
    "\n",
    "print(\"\\nPulsaciones Osmar:\", o.med())\n",
    "print(\"variacion Osmar:\", o.var())\n",
    "print(\"desviacion Osmar:\", o.des())\n",
    "print(\"Skew Osmar:\", o.ske())\n",
    "print(\"Kurtosis Osmar:\", o.kur())"
   ]
  },
  {
   "cell_type": "code",
   "execution_count": null,
   "metadata": {},
   "outputs": [],
   "source": []
  }
 ],
 "metadata": {
  "kernelspec": {
   "display_name": "Python 3",
   "language": "python",
   "name": "python3"
  },
  "language_info": {
   "codemirror_mode": {
    "name": "ipython",
    "version": 3
   },
   "file_extension": ".py",
   "mimetype": "text/x-python",
   "name": "python",
   "nbconvert_exporter": "python",
   "pygments_lexer": "ipython3",
   "version": "3.5.2"
  }
 },
 "nbformat": 4,
 "nbformat_minor": 2
}
