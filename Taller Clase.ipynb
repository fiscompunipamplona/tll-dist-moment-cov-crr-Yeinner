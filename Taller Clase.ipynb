{
 "cells": [
  {
   "cell_type": "code",
   "execution_count": 6,
   "metadata": {},
   "outputs": [],
   "source": [
    "from media import momentos\n",
    "from numpy import*"
   ]
  },
  {
   "cell_type": "markdown",
   "metadata": {},
   "source": [
    "# Punto 1\n"
   ]
  },
  {
   "cell_type": "code",
   "execution_count": 15,
   "metadata": {},
   "outputs": [
    {
     "name": "stdout",
     "output_type": "stream",
     "text": [
      "Edad media: 19.25\n",
      "\n",
      "Variacion: 0.23\n",
      "\n",
      "Desviacion: 0.48\n",
      "\n",
      "kew: 0.27\n",
      "\n",
      "Kurtosis: -1.09\n"
     ]
    }
   ],
   "source": [
    "edades= loadtxt(\"edades.dat\")\n",
    "e=momentos(edades)\n",
    "print(\"Edad media:\", format(e.med(), '.2f'))\n",
    "print(\"\\nVariacion:\", format(e.var(), '.2f'))\n",
    "print(\"\\nDesviacion:\", format(e.des(), '.2f'))\n",
    "print(\"\\nkew:\", format(e.ske(), '.2f'))\n",
    "print(\"\\nKurtosis:\", format(e.kur(), '.2f'))"
   ]
  },
  {
   "cell_type": "markdown",
   "metadata": {},
   "source": [
    "# Punto 2"
   ]
  },
  {
   "cell_type": "code",
   "execution_count": 14,
   "metadata": {},
   "outputs": [
    {
     "name": "stdout",
     "output_type": "stream",
     "text": [
      "La media de los datos de la materia Clasica es:  37.50\n",
      "\n",
      "La media para los datos de la materia Cuantica es:  55.25\n",
      "\n",
      "La covarianza de los datos de las dos materias es:  207.46\n",
      "\n",
      "La correlación de los datos de las dos materias es:  0.52\n"
     ]
    }
   ],
   "source": [
    "lista=loadtxt(\"dataClassQuan.dat\", float)\n",
    "x=lista[:,0]\n",
    "y=lista[:,1]\n",
    "a=momentos(x)\n",
    "b=momentos(y)\n",
    "l=momentos(lista)\n",
    "\n",
    "print(\"La media de los datos de la materia Clasica es: \", format(a.med(), '.2f'))\n",
    "print(\"\\nLa media para los datos de la materia Cuantica es: \", format(b.med(), '.2f'))\n",
    "print(\"\\nLa covarianza de los datos de las dos materias es: \", format(l.cov(), '.2f'))\n",
    "print(\"\\nLa correlación de los datos de las dos materias es: \", format(l.cor(), '.2f'))"
   ]
  },
  {
   "cell_type": "markdown",
   "metadata": {},
   "source": [
    "Al ver la covarianza obtenida podemos ver que estas crecen a la vez.\n",
    "\n",
    "Al analizar su correlación llegamos a la conclusion de que son directamente dependientes."
   ]
  },
  {
   "cell_type": "code",
   "execution_count": null,
   "metadata": {},
   "outputs": [],
   "source": []
  }
 ],
 "metadata": {
  "kernelspec": {
   "display_name": "Python 3",
   "language": "python",
   "name": "python3"
  },
  "language_info": {
   "codemirror_mode": {
    "name": "ipython",
    "version": 3
   },
   "file_extension": ".py",
   "mimetype": "text/x-python",
   "name": "python",
   "nbconvert_exporter": "python",
   "pygments_lexer": "ipython3",
   "version": "3.5.2"
  }
 },
 "nbformat": 4,
 "nbformat_minor": 2
}
